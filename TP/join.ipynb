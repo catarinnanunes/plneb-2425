{
 "cells": [
  {
   "cell_type": "code",
   "execution_count": 9,
   "id": "ec3aaabe",
   "metadata": {},
   "outputs": [
    {
     "name": "stdout",
     "output_type": "stream",
     "text": [
      "Total de termos no dicionário multilingue: 739\n",
      "Total de termos no glossário de neologismos: 306\n",
      "Total de termos no glossário de termos médicos populares: 1822\n",
      "Total de termos no glossário de monitoramento e avaliação: 222\n",
      "-----------------------\n",
      "soma = 3089\n",
      "-----------------------\n",
      "Total de termos depois da concatenação (não há chaves repetidas): 3085\n",
      "Termos em comum entre glossários:\n",
      "- placebo: dicionario_multilingue, termos_populares\n",
      "- antiviral: dicionario_multilingue, termos_populares\n",
      "- broncodilatação: glossario_neologismos, termos_populares\n",
      "- radiografia: dicionario_multilingue, termos_populares\n"
     ]
    }
   ],
   "source": [
    "import json\n",
    "\n",
    "# Carrega os dicionários\n",
    "with open(\"diccionari-multilinguee-de-la-covid-19/dicionario_medico.json\", encoding=\"utf-8\") as f:\n",
    "    dicionario_multilingue = json.load(f)\n",
    "\n",
    "with open(\"glossario_neologismos/glossario.json\", encoding=\"utf-8\") as f:\n",
    "    glossario_neologismos = json.load(f)\n",
    "\n",
    "with open(\"glossario_termos_medicos/termos_medicos_populares.json\", encoding=\"utf-8\") as f:\n",
    "    termos_medicos_populares = json.load(f)\n",
    "\n",
    "with open(\"glossario-monitoramento-e-avaliacao/monitoramento-e-avaliacao-glossario.json\", encoding=\"utf-8\") as f:\n",
    "    monitoramento_avaliacao = json.load(f)\n",
    "\n",
    "# Extrai os conjuntos de termos\n",
    "termos_dm = set(dicionario_multilingue.keys())\n",
    "termos_gn = set(glossario_neologismos.keys())\n",
    "termos_tp = set(termos_medicos_populares.keys())\n",
    "termos_ma = set(monitoramento_avaliacao.keys())\n",
    "\n",
    "# Junta os nomes dos conjuntos com os dados\n",
    "glossarios = {\n",
    "    \"dicionario_multilingue\": termos_dm,\n",
    "    \"glossario_neologismos\": termos_gn,\n",
    "    \"termos_populares\": termos_tp,\n",
    "    \"monitoramento_avaliacao\": termos_ma\n",
    "}\n",
    "print(f\"Total de termos no dicionário multilingue: {len(termos_dm)}\")\n",
    "print(f\"Total de termos no glossário de neologismos: {len(termos_gn)}\")\n",
    "print(f\"Total de termos no glossário de termos médicos populares: {len(termos_tp)}\")\n",
    "print(f\"Total de termos no glossário de monitoramento e avaliação: {len(termos_ma)}\")\n",
    "print(\"-----------------------\")\n",
    "\n",
    "print(\"soma =\", len(termos_dm) + len(termos_gn) + len(termos_tp) + len(termos_ma))\n",
    "print(\"-----------------------\")\n",
    "\n",
    "# Verifica termos comuns\n",
    "termos_comuns = {}\n",
    "todos_termos = termos_dm | termos_gn | termos_tp | termos_ma\n",
    "print (f\"Total de termos depois da concatenação (não há chaves repetidas): {len(todos_termos)}\")\n",
    "for termo in todos_termos:\n",
    "    presente_em = [nome for nome, termos in glossarios.items() if termo in termos]\n",
    "    if len(presente_em) > 1:\n",
    "        termos_comuns[termo] = presente_em\n",
    "\n",
    "# Resultado\n",
    "print(\"Termos em comum entre glossários:\")\n",
    "for termo, fontes in termos_comuns.items():\n",
    "    print(f\"- {termo}: {', '.join(fontes)}\")\n"
   ]
  }
 ],
 "metadata": {
  "kernelspec": {
   "display_name": "Python 3",
   "language": "python",
   "name": "python3"
  },
  "language_info": {
   "codemirror_mode": {
    "name": "ipython",
    "version": 3
   },
   "file_extension": ".py",
   "mimetype": "text/x-python",
   "name": "python",
   "nbconvert_exporter": "python",
   "pygments_lexer": "ipython3",
   "version": "3.12.6"
  }
 },
 "nbformat": 4,
 "nbformat_minor": 5
}

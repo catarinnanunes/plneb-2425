{
 "cells": [
  {
   "cell_type": "code",
   "execution_count": 12,
   "id": "7bfdd157",
   "metadata": {},
   "outputs": [],
   "source": [
    "import json\n",
    "from collections import defaultdict\n",
    "from transformers import AutoTokenizer, AutoModel\n",
    "import torch\n",
    "from sklearn.metrics.pairwise import cosine_similarity\n",
    "import numpy as np\n",
    "from tqdm import tqdm"
   ]
  },
  {
   "cell_type": "code",
   "execution_count": null,
   "id": "2f71c400",
   "metadata": {},
   "outputs": [],
   "source": [
    "file = open(\"dicionario_final.json\", encoding = \"utf-8\")\n",
    "dici_final = json.load(file)\n",
    "file.close()"
   ]
  },
  {
   "cell_type": "code",
   "execution_count": 14,
   "id": "c31c0405",
   "metadata": {},
   "outputs": [
    {
     "name": "stderr",
     "output_type": "stream",
     "text": [
      "c:\\Users\\Acer\\AppData\\Local\\Programs\\Python\\Python39\\lib\\site-packages\\huggingface_hub\\file_download.py:943: FutureWarning: `resume_download` is deprecated and will be removed in version 1.0.0. Downloads always resume when possible. If you want to force a new download, use `force_download=True`.\n",
      "  warnings.warn(\n"
     ]
    }
   ],
   "source": [
    "# modelo BioBERTpt\n",
    "MODEL_NAME = \"neuralmind/bert-base-portuguese-cased\"\n",
    "tokenizer = AutoTokenizer.from_pretrained(MODEL_NAME)\n",
    "model = AutoModel.from_pretrained(MODEL_NAME)"
   ]
  },
  {
   "cell_type": "code",
   "execution_count": 15,
   "id": "4b813537",
   "metadata": {},
   "outputs": [
    {
     "name": "stdout",
     "output_type": "stream",
     "text": [
      "['Acalabrutinib', 'Ácido desoxirribonucleico', 'Ácido ribonucleico', 'Limitação do esforço terapêutico', 'ADG20', 'Aerossol', 'Agente biológico', 'Ageusia', 'Agrupamento', 'Isolamento', 'Isolado de vírus', 'Alta n f; alta hospitalar n f; alta médica n f', 'Alunacedase alfa', 'Ambroxol', 'AMY-101', 'Anacinra', 'Antiálgico', 'Anosmia', 'Ansiedade de antecipação', 'Antibiótico', 'Anticorpo', 'Antigénio', 'Antipirético', 'Antirretroviral ARV', 'Antiviral', 'Antivírico', 'Apilimod', 'Achatar a curva', 'Apremilast', 'Arritmia', 'ASC09F', 'Assintomático', 'Ensaio clínico aleatorizado', 'Ensaio clínico em ocultaçao', 'Ensaio clínico em dupla ocultação', 'Ensaio clínico em tripla ocultação', 'Ensaio clínico controlado', 'Ensaio de intervenção comunitária', 'Astenia', 'Tratamento da dor', 'Cuidados ao domicílio', 'Cuidados hospitalares', 'Cuidados primários', 'Atibuclimab', 'ATYR1923', 'Auto-inflamação', 'Auto-amostragem', 'Autoridade de saúde', 'Aviptadil', 'Azitromicina']\n",
      "['Fàrmac antineoplàstic que bloca la tirosina-cinasa de Bruton i inhibeix la replicació dels limfòcits T cancerosos', \"Àcid nucleic constituït per nucleòtids de desoxiribosa, àcid fosfòric i les bases nitrogenades adenina, citosina, guanina i timina, que es troba fonamentalment en el nucli, en els mitocondris i en els cloroplasts, i que constitueix la base molecular de l'herència biològica\", 'Àcid nucleic constituït per nucleòtids de ribosa, àcid fosfòric i les bases nitrogenades adenina, citosina, guanina i uracil, que es troba fonamentalment en el nucli, en els ribosomes, en els mitoribosomes i en els plastoribosomes', 'Decisió clínica que comporta l’aplicació de les actuacions sanitàries que afavoreixen el màxim benestar al pacient i l’abstenció de les que no li aporten prou beneficis, tenint en compte la seva situació concreta', 'Fàrmac en investigació, amb efecte neutralitzant i antivíric, que s’uneix a la superfície de la proteïna S del SARS-CoV-2 per a evitar que el virus infecti la cèl·lula hoste', 'Cadascuna de les petites gotes de saliva o de fluid respiratori menors de 100 micròmetres que, en romandre més temps a l’aire i viatjar a distàncies més llargues que les gotetes respiratòries, tenen una infecciositat potencial més elevada', 'Agent nociu animal o vegetal, generalment capaç de fer un cicle vital complet, que pot provocar malalties infeccioses, parasitàries, al·lèrgiques o tòxiques', 'Pèrdua o disminució del sentit del gust', 'Subconjunt d’elements d’una mostra que s’agreguen en realitzar una anàlisi d’agrupaments', 'Conjunt de mesures que s’apliquen a una persona amb una malaltia contagiosa durant el període en què aquesta malaltia és transmissible amb la finalitat d’evitar el contagi d’altres persones', 'Virus que ha estat isolat d’un hoste infectat i s’ha multiplicat en un cultiu de laboratori', 'Declaració mèdica que constata que un treballador està en condicions de reincorporar-se a la feina després d’una malaltia, un accident o una situació de risc durant l’embaràs', \"Fàrmac en investigació que constitueix la forma glicosilada de l’enzim conversiu de l'angiotensina 2\", 'Fàrmac mucolític que disminueix la viscositat de les secrecions bronquials i en facilita l’expectoració, i estimula la síntesi i la secreció de surfactant pulmonar, que redueix l’adhesió del moc', 'Fàrmac immunomodulador i antiinflamatori en investigació que inhibeix proteïnes del sistema del complement', 'Fàrmac analgèsic i antiinflamatori que neutralitza l’activitat biològica de les interleucines 1 alfa i 1 beta mitjançant la inhibició competitiva del receptor de tipus I de la interleucina 1', 'Fàrmac o agent que prevé, alleugereix o anul·la el dolor sense pèrdua de la consciència', 'Pèrdua o disminució del sentit de l’olfacte', 'Ansietat provocada pel pensament o l’amenaça d’estar exposat de nou a una situació que en una ocasió prèvia ha desencadenat una resposta d’ansietat', 'Fàrmac o agent que actua contra microorganismes, els elimina o n’inhibeix el creixement i la reproducció', 'Immunoglobulina secretada per les cèl·lules plasmàtiques en resposta a l’estimulació exercida per un antigen, al qual és capaç d’unir-se de manera específica', 'Molècula capaç de produir una resposta immunitària en l’organisme', 'Fàrmac o pràctica terapèutica amb què es rebaixa o s’elimina la febre', 'Fàrmac o substància que té capacitat per a inhibir la reproducció d’un retrovirus o per a combatre’n l’acció', 'que destrói ou impede o desenvolvimento de vírus', 'Fàrmac o substància que té capacitat per a inactivar selectivament els virus o per a debilitar-ne l’acció', 'Fàrmac antineoplàstic en investigació que inhibeix l’enzim fosfatidil inositol fosfat (PIP)-cinasa tipus 3', 'Dur a terme una estratègia planificada de salut pública amb l’objectiu d’alentir l’augment de casos d’una epidèmia i evitar la saturació dels serveis sanitaris', 'Fàrmac antiinflamatori no esteroidal, inhibidor de la fosfodiesterasa 4, que redueix la producció inflamatòria de citocines que fan els limfòcits T', 'Trastorn o alteració del ritme cardíac', 'Fàrmac antiretroviral inhibidor de la proteasa, que evita la ruptura dels polipèptids necessaris per a la producció de partícules víriques infeccioses i bloca la replicació vírica', 'Dit de la persona o la malaltia que no presenta cap manifestació clínica aparent', 'Assaig clínic en què l’assignació dels participants als grups d’estudi es fa de manera aleatòria', 'Assaig clínic en què s’oculta als participants, a l’investigador o a l’avaluador la intervenció assignada a cadascun dels participants', 'Assaig amb cegament en què s’oculta tant als participants com als investigadors la intervenció assignada a cadascun dels participants', 'Assaig amb cegament en què s’oculta tant als participants com a l’investigador i l’avaluador la intervenció assignada a cadascun dels participants', 'Estudi clínic, generalment comparatiu, que es duu a terme amb la finalitat d’avaluar l’eficàcia i la seguretat d’una intervenció i en què l’investigador controla directament les condicions en què es desenvolupa la recerca, especialment l’assignació de la intervenció', 'Assaig el resultat del qual s’avalua en el conjunt de la població d’una comunitat determinada', 'Sensació patològica de debilitat generalitzada', 'Atenció que té per objectiu atenuar el patiment per la pèrdua d’una persona estimada', 'Atenció social o sanitària que es presta a una persona en el lloc on viu, amb l’objectiu de mantenir-la en el seu entorn habitual i aconseguir així el seu màxim nivell de salut, qualitat de vida, benestar i autonomia', 'Activitats assistencials, diagnòstiques, terapèutiques, rehabilitadores i de cures que tenen lloc en un centre hospitalari, on també es realitzen tasques d’educació, prevenció i promoció de la salut', 'Assistència sanitària essencial a què tenen accés de manera general totes les persones i famílies d’una comunitat, que proporciona informació, assessorament, tractament, prevenció, teleassistència sanitària, atenció domiciliària i, si cal, la derivació de la persona atesa als serveis socials especialitzats i a la resta de serveis de benestar social', 'Fàrmac en investigació que actua contra la proteïna CD14 humana de cèl·lules del sistema immunitaria i modula la resposta inflamatòria', 'Fàrmac immunomodulador en investigació que actua sobre la neuropilina 2, amb possibles efectes preventius de la fibrosi', 'Procés que es produeix per una activació excessiva dels mecanismes de la immunitat innata a causa d’una desregulació en la secreció de citocines proinflamatòries, amb el dany tissular consegüent en els teixits propis de l’organisme', 'Presa d’una mostra biològica duta a terme per la persona mateixa a qui s’ha de fer la prova biològica en què s’ha de processar aquesta mostra', 'Òrgan que té la competència per a aplicar la normativa vigent en matèria de salut pública, en funció de la qual pot limitar termporalment drets individuals o col·lectius en benefici dels drets de la comunitat', 'Fàrmac vasodilatador que redueix la pressió sanguínia i actua sobre el sistema immunitari', 'Fàrmac antibiòtic del grup dels macròlids que inhibeix la síntesi de les proteïnes bacterianes mitjançant la unió a la subunitat 50S del ribosoma bacterià, de manera que impossibilita la translocació dels pèptids']\n"
     ]
    }
   ],
   "source": [
    "# Extrair termos e definições \n",
    "# Campos a usar: \"Descrição\" e \"termo_popular\"\n",
    "\n",
    "termos = []\n",
    "definicoes = []\n",
    "\n",
    "for termo, info in dici_final.items():\n",
    "    # 1) Obter termo_popular sempre como lista\n",
    "    termo_popular = info.get(\"termo_popular\", [])\n",
    "    if isinstance(termo_popular, str):\n",
    "        termo_popular = [termo_popular]\n",
    "\n",
    "    # 2) Obter campo \"Descrição\" (pode ser string ou lista)\n",
    "    desc = info.get(\"Descrição\") or info.get(\"descricao\")\n",
    "    if isinstance(desc, list):\n",
    "        defin = \" \".join([d for d in desc if d])  # junta todos removendo strings vazias\n",
    "    else:\n",
    "        defin = desc\n",
    "\n",
    "    # 3) Se não houver \"Descrição\", usar todo termo_popular\n",
    "    if not defin and termo_popular:\n",
    "        defin = \" \".join(termo_popular)\n",
    "\n",
    "    # 4) Se temos algo em defin, guardar\n",
    "    if defin:\n",
    "        termos.append(termo)\n",
    "        definicoes.append(defin.strip())\n",
    "\n",
    "# Exemplo de saída\n",
    "print(termos[:50])\n",
    "print(definicoes[:50])\n"
   ]
  },
  {
   "cell_type": "code",
   "execution_count": 16,
   "id": "cae7dbf2",
   "metadata": {},
   "outputs": [],
   "source": [
    "# Função para obter embedding da frase (média dos tokens)\n",
    "def get_embedding(text):\n",
    "    inputs = tokenizer(text, return_tensors=\"pt\", truncation=True, max_length=128)\n",
    "    with torch.no_grad():\n",
    "        outputs = model(**inputs)\n",
    "    # Média dos embeddings dos tokens (dimensão 1)\n",
    "    return outputs.last_hidden_state.mean(dim=1).squeeze().numpy()"
   ]
  },
  {
   "cell_type": "code",
   "execution_count": 17,
   "id": "69603b61",
   "metadata": {},
   "outputs": [
    {
     "name": "stderr",
     "output_type": "stream",
     "text": [
      "Calculando embeddings:   0%|          | 0/3093 [00:00<?, ?it/s]"
     ]
    },
    {
     "name": "stderr",
     "output_type": "stream",
     "text": [
      "Calculando embeddings: 100%|██████████| 3093/3093 [03:46<00:00, 13.66it/s]\n"
     ]
    }
   ],
   "source": [
    "# Gerar embeddings para todas as definições\n",
    "embeddings = []\n",
    "for definicao in tqdm(definicoes, desc=\"Calculando embeddings\"):\n",
    "    embeddings.append(get_embedding(definicao))\n",
    "embeddings = np.stack(embeddings)"
   ]
  },
  {
   "cell_type": "code",
   "execution_count": 22,
   "id": "edbfeb54",
   "metadata": {},
   "outputs": [],
   "source": [
    "# Calcular similaridade de cosseno\n",
    "sim_matrix = cosine_similarity(embeddings)"
   ]
  },
  {
   "cell_type": "code",
   "execution_count": 24,
   "id": "b979567b",
   "metadata": {},
   "outputs": [],
   "source": [
    "# Para cada termo, selecionar os 5 mais similares (excluindo o próprio termo)\n",
    "top_similares = {}\n",
    "for idx, termo in enumerate(termos):\n",
    "    similares_idx = np.argsort(sim_matrix[idx])[::-1][1:6]\n",
    "    similares = [termos[i] for i in similares_idx]\n",
    "    top_similares[termo] = similares"
   ]
  },
  {
   "cell_type": "code",
   "execution_count": 25,
   "id": "ae02dad1",
   "metadata": {},
   "outputs": [
    {
     "name": "stdout",
     "output_type": "stream",
     "text": [
      "Teste pcr para covid-19: ['Teste serológico para covid-19', 'Teste de carga viral', 'Elisa indireto', 'Biópsia', 'Ubiquitina']\n",
      "Teste serológico para covid-19: ['Teste pcr para covid-19', 'Elisa indireto', 'Adjuvante genético', 'Imunossensor amperométrico', 'Teste de carga viral']\n",
      "Transmissão na comunidade: ['Sintomatologia', 'Metástase', 'Toxoplasmose', 'Quarentena ou isolamento profilático', 'R']\n",
      "Transmissão direta: ['Transmissão indireta', 'Etiqueta respiratória', 'Quartos de pressão negativa', 'Distanciamento social', 'Vírus respiratório sincicial']\n",
      "Transmissão indireta: ['Transmissão direta', 'Etiqueta respiratória', 'Distanciamento social', 'Quartos de pressão negativa', 'Dermatomiosite']\n"
     ]
    }
   ],
   "source": [
    "# Exemplo de resultado\n",
    "for termo, similares in list(top_similares.items())[-5:]:\n",
    "    print(f\"{termo}: {similares}\")"
   ]
  },
  {
   "cell_type": "code",
   "execution_count": null,
   "id": "b670d058",
   "metadata": {},
   "outputs": [],
   "source": [
    "# Acrescentar a lista de similares ao dicionário original\n",
    "for termo, similares in top_similares.items():\n",
    "    if termo in dici_final:\n",
    "        dici_final[termo][\"Similares\"] = similares\n",
    "\n",
    "with open(\"dicionario_final_similares.json\", \"w\", encoding=\"utf-8\") as f:\n",
    "    json.dump(dici_final, f, ensure_ascii=False, indent=4)"
   ]
  }
 ],
 "metadata": {
  "kernelspec": {
   "display_name": "Python 3",
   "language": "python",
   "name": "python3"
  },
  "language_info": {
   "codemirror_mode": {
    "name": "ipython",
    "version": 3
   },
   "file_extension": ".py",
   "mimetype": "text/x-python",
   "name": "python",
   "nbconvert_exporter": "python",
   "pygments_lexer": "ipython3",
   "version": "3.9.13"
  }
 },
 "nbformat": 4,
 "nbformat_minor": 5
}

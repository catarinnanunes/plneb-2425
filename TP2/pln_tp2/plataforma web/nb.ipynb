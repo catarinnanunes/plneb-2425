{
 "cells": [
  {
   "cell_type": "code",
   "execution_count": 12,
   "id": "04fde2fa",
   "metadata": {},
   "outputs": [
    {
     "name": "stdout",
     "output_type": "stream",
     "text": [
      "Termos em comum entre Remissivas e Traduções (ca), case-insensitive:\n",
      "- immune\n",
      "- immunològic -a\n"
     ]
    }
   ],
   "source": [
    "import json\n",
    "\n",
    "with open(\"dicionario_final_com_tudo.json\", \"r\", encoding=\"utf-8\") as file:\n",
    "    data = json.load(file)\n",
    "    \n",
    "# verificar que termos estão no campo \"Remissivas\" e no campo \"Traduções\":{\"ca\"}\n",
    "\n",
    "remissivas_set = set()\n",
    "traducoes_ca_set = set()\n",
    "\n",
    "for termo, dados in data.items():\n",
    "    # Remissivas\n",
    "    remissivas = dados.get(\"Remissivas\", [])\n",
    "    remissivas_set.update(remissivas)\n",
    "\n",
    "    # Traduções em catalão (\"ca\")\n",
    "    traducao_ca = dados.get(\"Traduções\", {}).get(\"ca\")\n",
    "    if traducao_ca:\n",
    "        if isinstance(traducao_ca, list):\n",
    "            for trad in traducao_ca:\n",
    "                traducoes_ca_set.add(trad)\n",
    "        else: \n",
    "            traducoes_ca_set.add(traducao_ca)\n",
    "comuns = remissivas_set.intersection(traducoes_ca_set)\n",
    "\n",
    "print(\"Termos em comum entre Remissivas e Traduções (ca), case-insensitive:\")\n",
    "for termo in sorted(comuns):\n",
    "    print(\"-\", termo)\n"
   ]
  },
  {
   "cell_type": "code",
   "execution_count": 14,
   "id": "dc474bfe",
   "metadata": {},
   "outputs": [
    {
     "name": "stdout",
     "output_type": "stream",
     "text": [
      "Termos em 'Similares' que aparecem em Traduções 'ca' e não são entrada principal:\n"
     ]
    }
   ],
   "source": [
    "import json\n",
    "\n",
    "with open(\"dicionario_final_com_tudo.json\", \"r\", encoding=\"utf-8\") as file:\n",
    "    data = json.load(file)\n",
    "\n",
    "# Conjunto com os nomes das entradas principais (normalizados para minúsculas)\n",
    "entradas_principais = set(termo.lower() for termo in data.keys())\n",
    "\n",
    "# Coletar todas as traduções em catalão (ca), normalizadas\n",
    "traducoes_ca = set()\n",
    "for dados in data.values():\n",
    "    traducao_ca = dados.get(\"Traduções\", {}).get(\"ca\")\n",
    "    if traducao_ca:\n",
    "        if isinstance(traducao_ca, list):\n",
    "            traducoes_ca.update(t.lower() for t in traducao_ca)\n",
    "        else:\n",
    "            traducoes_ca.add(traducao_ca.lower())\n",
    "\n",
    "# Verificar \"Similares\" que aparecem em traduções \"ca\" e não são entrada principal\n",
    "similares_em_ca_sem_entrada = set()\n",
    "for dados in data.values():\n",
    "    similares = dados.get(\"Similares\", [])\n",
    "    for similar in similares:\n",
    "        similar_lower = similar.lower()\n",
    "        if similar_lower in traducoes_ca and similar_lower not in entradas_principais:\n",
    "            similares_em_ca_sem_entrada.add(similar)\n",
    "\n",
    "# Resultado\n",
    "print(\"Termos em 'Similares' que aparecem em Traduções 'ca' e não são entrada principal:\")\n",
    "for termo in sorted(similares_em_ca_sem_entrada):\n",
    "    print(\"-\", termo)\n"
   ]
  }
 ],
 "metadata": {
  "kernelspec": {
   "display_name": "Python 3",
   "language": "python",
   "name": "python3"
  },
  "language_info": {
   "codemirror_mode": {
    "name": "ipython",
    "version": 3
   },
   "file_extension": ".py",
   "mimetype": "text/x-python",
   "name": "python",
   "nbconvert_exporter": "python",
   "pygments_lexer": "ipython3",
   "version": "3.12.6"
  }
 },
 "nbformat": 4,
 "nbformat_minor": 5
}
